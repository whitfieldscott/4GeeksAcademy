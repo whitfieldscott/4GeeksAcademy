{
  "cells": [
    {
      "cell_type": "markdown",
      "metadata": {
        "id": "view-in-github",
        "colab_type": "text"
      },
      "source": [
        "<a href=\"https://colab.research.google.com/github/whitfieldscott/4GeeksAcademy/blob/master/03-pandas/03.1-Intro-To-Pandas.ipynb\" target=\"_parent\"><img src=\"https://colab.research.google.com/assets/colab-badge.svg\" alt=\"Open In Colab\"/></a>"
      ]
    },
    {
      "cell_type": "markdown",
      "id": "bdfbcacc",
      "metadata": {
        "id": "bdfbcacc"
      },
      "source": [
        "![Pandas logo](https://github.com/4GeeksAcademy/machine-learning-prework/blob/main/03-pandas/assets/pandas_logo.png?raw=true)\n",
        "\n",
        "## Introduction to Python Pandas\n",
        "\n",
        "**Pandas** is an open-source python library that provides data structures and is designed to handle and analyze tabular data in Python. Pandas is based on NumPy, which allows it to integrate well into the data science ecosystem alongside other libraries such as `Scikit-learn` and `Matplotlib`.\n",
        "\n",
        "Specifically, the key points of this library are:\n",
        "\n",
        "- **Data structures**: This library provides two structures for working with data. These are the `Series` which are labeled one-dimensional arrays, similar to a vector, list or sequence and which is able to contain any type of data, and the `DataFrames`, which is a labeled two-dimensional structure with columns that can be of different types, similar to a spreadsheet or a SQL table.\n",
        "- **Data manipulation**: Pandas allows you to carry out an exhaustive data analysis through functions that can be applied directly on your data structures. These operations include missing data control, data filtering, merging, combining and joining data from different sources...\n",
        "- **Efficiency**: All operations and/or functions that are applied on data structures are vectorized to improve performance compared to traditional Python loops and iterators.\n",
        "\n",
        "Pandas is a fundamental tool for any developer working with data in Python, as it provides a wide variety of tools for data exploration, cleaning and transformation, making the analysis process more efficient and effective."
      ]
    },
    {
      "cell_type": "markdown",
      "id": "40631cd6",
      "metadata": {
        "id": "40631cd6"
      },
      "source": [
        "### Data Structures in Python Pandas\n",
        "\n",
        "Pandas provides two main data structures: `Series` and `DataFrames`.\n",
        "\n",
        "#### Series\n",
        "\n",
        "A **series** in Pandas is a one-dimensional labeled data structure. It is similar to a 1D array in NumPy, but has an index that allows access to the values by label. A series can contain any kind of data: integers, strings, Python objects...\n",
        "\n",
        "![Example of a series](https://github.com/4GeeksAcademy/machine-learning-prework/blob/main/03-pandas/assets/series.PNG?raw=true)\n",
        "\n",
        "A Pandas series has two distinct parts:\n",
        "\n",
        "- **Index** (*index*): An array of tags associated with the data.\n",
        "- **Value** (*value*): An array of data.\n",
        "\n",
        "A series can be created using the `Series` class of the library with a list of elements as an argument. For example:"
      ]
    },
    {
      "cell_type": "code",
      "execution_count": 5,
      "id": "21653d4f",
      "metadata": {
        "colab": {
          "base_uri": "https://localhost:8080/",
          "height": 241
        },
        "id": "21653d4f",
        "outputId": "44650027-bf07-48d3-bdb5-55612c2afc6c"
      },
      "outputs": [
        {
          "output_type": "execute_result",
          "data": {
            "text/plain": [
              "0    1\n",
              "1    2\n",
              "2    3\n",
              "3    4\n",
              "4    5\n",
              "dtype: int64"
            ],
            "text/html": [
              "<div>\n",
              "<style scoped>\n",
              "    .dataframe tbody tr th:only-of-type {\n",
              "        vertical-align: middle;\n",
              "    }\n",
              "\n",
              "    .dataframe tbody tr th {\n",
              "        vertical-align: top;\n",
              "    }\n",
              "\n",
              "    .dataframe thead th {\n",
              "        text-align: right;\n",
              "    }\n",
              "</style>\n",
              "<table border=\"1\" class=\"dataframe\">\n",
              "  <thead>\n",
              "    <tr style=\"text-align: right;\">\n",
              "      <th></th>\n",
              "      <th>0</th>\n",
              "    </tr>\n",
              "  </thead>\n",
              "  <tbody>\n",
              "    <tr>\n",
              "      <th>0</th>\n",
              "      <td>1</td>\n",
              "    </tr>\n",
              "    <tr>\n",
              "      <th>1</th>\n",
              "      <td>2</td>\n",
              "    </tr>\n",
              "    <tr>\n",
              "      <th>2</th>\n",
              "      <td>3</td>\n",
              "    </tr>\n",
              "    <tr>\n",
              "      <th>3</th>\n",
              "      <td>4</td>\n",
              "    </tr>\n",
              "    <tr>\n",
              "      <th>4</th>\n",
              "      <td>5</td>\n",
              "    </tr>\n",
              "  </tbody>\n",
              "</table>\n",
              "</div><br><label><b>dtype:</b> int64</label>"
            ]
          },
          "metadata": {},
          "execution_count": 5
        }
      ],
      "source": [
        "import pandas as pd\n",
        "\n",
        "serie = pd.Series([1, 2, 3, 4, 5])\n",
        "serie"
      ]
    },
    {
      "cell_type": "markdown",
      "id": "d1c2dda1",
      "metadata": {
        "id": "d1c2dda1"
      },
      "source": [
        "This will create a series with elements 1, 2, 3, 4 and 5. In addition, since we have not included information about the indexes, an automatic index is generated starting at 0:"
      ]
    },
    {
      "cell_type": "code",
      "execution_count": 6,
      "id": "2d4c091d",
      "metadata": {
        "colab": {
          "base_uri": "https://localhost:8080/",
          "height": 241
        },
        "id": "2d4c091d",
        "outputId": "14022e85-4324-4a97-b469-dd401a6187d0"
      },
      "outputs": [
        {
          "output_type": "execute_result",
          "data": {
            "text/plain": [
              "a    1\n",
              "b    2\n",
              "c    3\n",
              "d    4\n",
              "e    5\n",
              "dtype: int64"
            ],
            "text/html": [
              "<div>\n",
              "<style scoped>\n",
              "    .dataframe tbody tr th:only-of-type {\n",
              "        vertical-align: middle;\n",
              "    }\n",
              "\n",
              "    .dataframe tbody tr th {\n",
              "        vertical-align: top;\n",
              "    }\n",
              "\n",
              "    .dataframe thead th {\n",
              "        text-align: right;\n",
              "    }\n",
              "</style>\n",
              "<table border=\"1\" class=\"dataframe\">\n",
              "  <thead>\n",
              "    <tr style=\"text-align: right;\">\n",
              "      <th></th>\n",
              "      <th>0</th>\n",
              "    </tr>\n",
              "  </thead>\n",
              "  <tbody>\n",
              "    <tr>\n",
              "      <th>a</th>\n",
              "      <td>1</td>\n",
              "    </tr>\n",
              "    <tr>\n",
              "      <th>b</th>\n",
              "      <td>2</td>\n",
              "    </tr>\n",
              "    <tr>\n",
              "      <th>c</th>\n",
              "      <td>3</td>\n",
              "    </tr>\n",
              "    <tr>\n",
              "      <th>d</th>\n",
              "      <td>4</td>\n",
              "    </tr>\n",
              "    <tr>\n",
              "      <th>e</th>\n",
              "      <td>5</td>\n",
              "    </tr>\n",
              "  </tbody>\n",
              "</table>\n",
              "</div><br><label><b>dtype:</b> int64</label>"
            ]
          },
          "metadata": {},
          "execution_count": 6
        }
      ],
      "source": [
        "serie = pd.Series([1, 2, 3, 4, 5], index = [\"a\", \"b\", \"c\", \"d\", \"e\"])\n",
        "serie"
      ]
    },
    {
      "cell_type": "markdown",
      "id": "f7588c91",
      "metadata": {
        "id": "f7588c91"
      },
      "source": [
        "Thus, the previous series has an index composed of letters.\n",
        "\n",
        "Both series store the same values, but the way they are accessed may vary according to the index.\n",
        "\n",
        "In a series, its elements can be accessed by index or by position (the latter is what we did in NumPy). Below are some operations that can be performed using the above series:"
      ]
    },
    {
      "cell_type": "code",
      "execution_count": 19,
      "id": "0f90b9e7",
      "metadata": {
        "colab": {
          "base_uri": "https://localhost:8080/"
        },
        "id": "0f90b9e7",
        "outputId": "3abe1a3c-ade9-4335-86ab-5954ef43a0db"
      },
      "outputs": [
        {
          "output_type": "stream",
          "name": "stdout",
          "text": [
            "103\n",
            "103\n",
            "a    101\n",
            "b      7\n",
            "c    103\n",
            "d    104\n",
            "e    105\n",
            "dtype: int64\n",
            "a    111\n",
            "b     17\n",
            "c    113\n",
            "d    114\n",
            "e    115\n",
            "dtype: int64\n",
            "470\n"
          ]
        },
        {
          "output_type": "stream",
          "name": "stderr",
          "text": [
            "/tmp/ipython-input-1718565136.py:3: FutureWarning: Series.__getitem__ treating keys as positions is deprecated. In a future version, integer keys will always be treated as labels (consistent with DataFrame behavior). To access a value by position, use `ser.iloc[pos]`\n",
            "  print(serie[2]) # By position\n"
          ]
        }
      ],
      "source": [
        "# Access the third element\n",
        "print(serie[\"c\"]) # By index\n",
        "print(serie[2]) # By position\n",
        "\n",
        "# Change the value of the second element\n",
        "serie[\"b\"] = 7\n",
        "print(serie)\n",
        "\n",
        "# Add 10 to all elements\n",
        "serie += 10\n",
        "print(serie)\n",
        "\n",
        "# Calculate the sum of the elements\n",
        "sum_all = serie.sum()\n",
        "print(sum_all)"
      ]
    },
    {
      "cell_type": "markdown",
      "id": "e4fe3649",
      "metadata": {
        "id": "e4fe3649"
      },
      "source": [
        "#### Pandas DataFrame\n",
        "\n",
        "A **DataFrame** in Pandas is a two-dimensional labeled data structure. It is similar to a 2D array in NumPy, but has an index that allows access to the values per label, per row, and column.\n",
        "\n",
        "![Example of a DataFrame](https://github.com/4GeeksAcademy/machine-learning-prework/blob/main/03-pandas/assets/dataframe.PNG?raw=true)\n",
        "\n",
        "A DataFrame in Pandas has several differentiated parts:\n",
        "\n",
        "- **Data** (*data*): An array of values that can be of different types per column.\n",
        "- **Row index** (*row index*): An array of labels associated to the rows.\n",
        "- **Column index** (*column index*): An array of labels associated to the columns.\n",
        "\n",
        "A DataFrame can be seen as a set of series joined in a tabular structure, with an index per row in common and a column index specific to each series.\n",
        "\n",
        "![Series and DataFrames](https://github.com/4GeeksAcademy/machine-learning-prework/blob/main/03-pandas/assets/series_dataframe.png?raw=true?raw=true)\n",
        "\n",
        "A DataFrame can be created using the `DataFrame` class. For example:"
      ]
    },
    {
      "cell_type": "code",
      "execution_count": 36,
      "id": "3947a09a",
      "metadata": {
        "colab": {
          "base_uri": "https://localhost:8080/",
          "height": 143
        },
        "id": "3947a09a",
        "outputId": "d76fa7a3-f9d1-4a30-ae98-6f16608f8109"
      },
      "outputs": [
        {
          "output_type": "execute_result",
          "data": {
            "text/plain": [
              "   0  1  2\n",
              "a  1  2  3\n",
              "b  4  5  6\n",
              "c  7  8  9"
            ],
            "text/html": [
              "\n",
              "  <div id=\"df-09f3ccf1-e86c-4bab-9685-e49e387fd00c\" class=\"colab-df-container\">\n",
              "    <div>\n",
              "<style scoped>\n",
              "    .dataframe tbody tr th:only-of-type {\n",
              "        vertical-align: middle;\n",
              "    }\n",
              "\n",
              "    .dataframe tbody tr th {\n",
              "        vertical-align: top;\n",
              "    }\n",
              "\n",
              "    .dataframe thead th {\n",
              "        text-align: right;\n",
              "    }\n",
              "</style>\n",
              "<table border=\"1\" class=\"dataframe\">\n",
              "  <thead>\n",
              "    <tr style=\"text-align: right;\">\n",
              "      <th></th>\n",
              "      <th>0</th>\n",
              "      <th>1</th>\n",
              "      <th>2</th>\n",
              "    </tr>\n",
              "  </thead>\n",
              "  <tbody>\n",
              "    <tr>\n",
              "      <th>a</th>\n",
              "      <td>1</td>\n",
              "      <td>2</td>\n",
              "      <td>3</td>\n",
              "    </tr>\n",
              "    <tr>\n",
              "      <th>b</th>\n",
              "      <td>4</td>\n",
              "      <td>5</td>\n",
              "      <td>6</td>\n",
              "    </tr>\n",
              "    <tr>\n",
              "      <th>c</th>\n",
              "      <td>7</td>\n",
              "      <td>8</td>\n",
              "      <td>9</td>\n",
              "    </tr>\n",
              "  </tbody>\n",
              "</table>\n",
              "</div>\n",
              "    <div class=\"colab-df-buttons\">\n",
              "\n",
              "  <div class=\"colab-df-container\">\n",
              "    <button class=\"colab-df-convert\" onclick=\"convertToInteractive('df-09f3ccf1-e86c-4bab-9685-e49e387fd00c')\"\n",
              "            title=\"Convert this dataframe to an interactive table.\"\n",
              "            style=\"display:none;\">\n",
              "\n",
              "  <svg xmlns=\"http://www.w3.org/2000/svg\" height=\"24px\" viewBox=\"0 -960 960 960\">\n",
              "    <path d=\"M120-120v-720h720v720H120Zm60-500h600v-160H180v160Zm220 220h160v-160H400v160Zm0 220h160v-160H400v160ZM180-400h160v-160H180v160Zm440 0h160v-160H620v160ZM180-180h160v-160H180v160Zm440 0h160v-160H620v160Z\"/>\n",
              "  </svg>\n",
              "    </button>\n",
              "\n",
              "  <style>\n",
              "    .colab-df-container {\n",
              "      display:flex;\n",
              "      gap: 12px;\n",
              "    }\n",
              "\n",
              "    .colab-df-convert {\n",
              "      background-color: #E8F0FE;\n",
              "      border: none;\n",
              "      border-radius: 50%;\n",
              "      cursor: pointer;\n",
              "      display: none;\n",
              "      fill: #1967D2;\n",
              "      height: 32px;\n",
              "      padding: 0 0 0 0;\n",
              "      width: 32px;\n",
              "    }\n",
              "\n",
              "    .colab-df-convert:hover {\n",
              "      background-color: #E2EBFA;\n",
              "      box-shadow: 0px 1px 2px rgba(60, 64, 67, 0.3), 0px 1px 3px 1px rgba(60, 64, 67, 0.15);\n",
              "      fill: #174EA6;\n",
              "    }\n",
              "\n",
              "    .colab-df-buttons div {\n",
              "      margin-bottom: 4px;\n",
              "    }\n",
              "\n",
              "    [theme=dark] .colab-df-convert {\n",
              "      background-color: #3B4455;\n",
              "      fill: #D2E3FC;\n",
              "    }\n",
              "\n",
              "    [theme=dark] .colab-df-convert:hover {\n",
              "      background-color: #434B5C;\n",
              "      box-shadow: 0px 1px 3px 1px rgba(0, 0, 0, 0.15);\n",
              "      filter: drop-shadow(0px 1px 2px rgba(0, 0, 0, 0.3));\n",
              "      fill: #FFFFFF;\n",
              "    }\n",
              "  </style>\n",
              "\n",
              "    <script>\n",
              "      const buttonEl =\n",
              "        document.querySelector('#df-09f3ccf1-e86c-4bab-9685-e49e387fd00c button.colab-df-convert');\n",
              "      buttonEl.style.display =\n",
              "        google.colab.kernel.accessAllowed ? 'block' : 'none';\n",
              "\n",
              "      async function convertToInteractive(key) {\n",
              "        const element = document.querySelector('#df-09f3ccf1-e86c-4bab-9685-e49e387fd00c');\n",
              "        const dataTable =\n",
              "          await google.colab.kernel.invokeFunction('convertToInteractive',\n",
              "                                                    [key], {});\n",
              "        if (!dataTable) return;\n",
              "\n",
              "        const docLinkHtml = 'Like what you see? Visit the ' +\n",
              "          '<a target=\"_blank\" href=https://colab.research.google.com/notebooks/data_table.ipynb>data table notebook</a>'\n",
              "          + ' to learn more about interactive tables.';\n",
              "        element.innerHTML = '';\n",
              "        dataTable['output_type'] = 'display_data';\n",
              "        await google.colab.output.renderOutput(dataTable, element);\n",
              "        const docLink = document.createElement('div');\n",
              "        docLink.innerHTML = docLinkHtml;\n",
              "        element.appendChild(docLink);\n",
              "      }\n",
              "    </script>\n",
              "  </div>\n",
              "\n",
              "\n",
              "    <div id=\"df-55d2aade-f874-4e0c-984b-46419544c1a9\">\n",
              "      <button class=\"colab-df-quickchart\" onclick=\"quickchart('df-55d2aade-f874-4e0c-984b-46419544c1a9')\"\n",
              "                title=\"Suggest charts\"\n",
              "                style=\"display:none;\">\n",
              "\n",
              "<svg xmlns=\"http://www.w3.org/2000/svg\" height=\"24px\"viewBox=\"0 0 24 24\"\n",
              "     width=\"24px\">\n",
              "    <g>\n",
              "        <path d=\"M19 3H5c-1.1 0-2 .9-2 2v14c0 1.1.9 2 2 2h14c1.1 0 2-.9 2-2V5c0-1.1-.9-2-2-2zM9 17H7v-7h2v7zm4 0h-2V7h2v10zm4 0h-2v-4h2v4z\"/>\n",
              "    </g>\n",
              "</svg>\n",
              "      </button>\n",
              "\n",
              "<style>\n",
              "  .colab-df-quickchart {\n",
              "      --bg-color: #E8F0FE;\n",
              "      --fill-color: #1967D2;\n",
              "      --hover-bg-color: #E2EBFA;\n",
              "      --hover-fill-color: #174EA6;\n",
              "      --disabled-fill-color: #AAA;\n",
              "      --disabled-bg-color: #DDD;\n",
              "  }\n",
              "\n",
              "  [theme=dark] .colab-df-quickchart {\n",
              "      --bg-color: #3B4455;\n",
              "      --fill-color: #D2E3FC;\n",
              "      --hover-bg-color: #434B5C;\n",
              "      --hover-fill-color: #FFFFFF;\n",
              "      --disabled-bg-color: #3B4455;\n",
              "      --disabled-fill-color: #666;\n",
              "  }\n",
              "\n",
              "  .colab-df-quickchart {\n",
              "    background-color: var(--bg-color);\n",
              "    border: none;\n",
              "    border-radius: 50%;\n",
              "    cursor: pointer;\n",
              "    display: none;\n",
              "    fill: var(--fill-color);\n",
              "    height: 32px;\n",
              "    padding: 0;\n",
              "    width: 32px;\n",
              "  }\n",
              "\n",
              "  .colab-df-quickchart:hover {\n",
              "    background-color: var(--hover-bg-color);\n",
              "    box-shadow: 0 1px 2px rgba(60, 64, 67, 0.3), 0 1px 3px 1px rgba(60, 64, 67, 0.15);\n",
              "    fill: var(--button-hover-fill-color);\n",
              "  }\n",
              "\n",
              "  .colab-df-quickchart-complete:disabled,\n",
              "  .colab-df-quickchart-complete:disabled:hover {\n",
              "    background-color: var(--disabled-bg-color);\n",
              "    fill: var(--disabled-fill-color);\n",
              "    box-shadow: none;\n",
              "  }\n",
              "\n",
              "  .colab-df-spinner {\n",
              "    border: 2px solid var(--fill-color);\n",
              "    border-color: transparent;\n",
              "    border-bottom-color: var(--fill-color);\n",
              "    animation:\n",
              "      spin 1s steps(1) infinite;\n",
              "  }\n",
              "\n",
              "  @keyframes spin {\n",
              "    0% {\n",
              "      border-color: transparent;\n",
              "      border-bottom-color: var(--fill-color);\n",
              "      border-left-color: var(--fill-color);\n",
              "    }\n",
              "    20% {\n",
              "      border-color: transparent;\n",
              "      border-left-color: var(--fill-color);\n",
              "      border-top-color: var(--fill-color);\n",
              "    }\n",
              "    30% {\n",
              "      border-color: transparent;\n",
              "      border-left-color: var(--fill-color);\n",
              "      border-top-color: var(--fill-color);\n",
              "      border-right-color: var(--fill-color);\n",
              "    }\n",
              "    40% {\n",
              "      border-color: transparent;\n",
              "      border-right-color: var(--fill-color);\n",
              "      border-top-color: var(--fill-color);\n",
              "    }\n",
              "    60% {\n",
              "      border-color: transparent;\n",
              "      border-right-color: var(--fill-color);\n",
              "    }\n",
              "    80% {\n",
              "      border-color: transparent;\n",
              "      border-right-color: var(--fill-color);\n",
              "      border-bottom-color: var(--fill-color);\n",
              "    }\n",
              "    90% {\n",
              "      border-color: transparent;\n",
              "      border-bottom-color: var(--fill-color);\n",
              "    }\n",
              "  }\n",
              "</style>\n",
              "\n",
              "      <script>\n",
              "        async function quickchart(key) {\n",
              "          const quickchartButtonEl =\n",
              "            document.querySelector('#' + key + ' button');\n",
              "          quickchartButtonEl.disabled = true;  // To prevent multiple clicks.\n",
              "          quickchartButtonEl.classList.add('colab-df-spinner');\n",
              "          try {\n",
              "            const charts = await google.colab.kernel.invokeFunction(\n",
              "                'suggestCharts', [key], {});\n",
              "          } catch (error) {\n",
              "            console.error('Error during call to suggestCharts:', error);\n",
              "          }\n",
              "          quickchartButtonEl.classList.remove('colab-df-spinner');\n",
              "          quickchartButtonEl.classList.add('colab-df-quickchart-complete');\n",
              "        }\n",
              "        (() => {\n",
              "          let quickchartButtonEl =\n",
              "            document.querySelector('#df-55d2aade-f874-4e0c-984b-46419544c1a9 button');\n",
              "          quickchartButtonEl.style.display =\n",
              "            google.colab.kernel.accessAllowed ? 'block' : 'none';\n",
              "        })();\n",
              "      </script>\n",
              "    </div>\n",
              "\n",
              "  <div id=\"id_2fda3fec-3387-493e-898b-d4dabd76d4e5\">\n",
              "    <style>\n",
              "      .colab-df-generate {\n",
              "        background-color: #E8F0FE;\n",
              "        border: none;\n",
              "        border-radius: 50%;\n",
              "        cursor: pointer;\n",
              "        display: none;\n",
              "        fill: #1967D2;\n",
              "        height: 32px;\n",
              "        padding: 0 0 0 0;\n",
              "        width: 32px;\n",
              "      }\n",
              "\n",
              "      .colab-df-generate:hover {\n",
              "        background-color: #E2EBFA;\n",
              "        box-shadow: 0px 1px 2px rgba(60, 64, 67, 0.3), 0px 1px 3px 1px rgba(60, 64, 67, 0.15);\n",
              "        fill: #174EA6;\n",
              "      }\n",
              "\n",
              "      [theme=dark] .colab-df-generate {\n",
              "        background-color: #3B4455;\n",
              "        fill: #D2E3FC;\n",
              "      }\n",
              "\n",
              "      [theme=dark] .colab-df-generate:hover {\n",
              "        background-color: #434B5C;\n",
              "        box-shadow: 0px 1px 3px 1px rgba(0, 0, 0, 0.15);\n",
              "        filter: drop-shadow(0px 1px 2px rgba(0, 0, 0, 0.3));\n",
              "        fill: #FFFFFF;\n",
              "      }\n",
              "    </style>\n",
              "    <button class=\"colab-df-generate\" onclick=\"generateWithVariable('dataframe')\"\n",
              "            title=\"Generate code using this dataframe.\"\n",
              "            style=\"display:none;\">\n",
              "\n",
              "  <svg xmlns=\"http://www.w3.org/2000/svg\" height=\"24px\"viewBox=\"0 0 24 24\"\n",
              "       width=\"24px\">\n",
              "    <path d=\"M7,19H8.4L18.45,9,17,7.55,7,17.6ZM5,21V16.75L18.45,3.32a2,2,0,0,1,2.83,0l1.4,1.43a1.91,1.91,0,0,1,.58,1.4,1.91,1.91,0,0,1-.58,1.4L9.25,21ZM18.45,9,17,7.55Zm-12,3A5.31,5.31,0,0,0,4.9,8.1,5.31,5.31,0,0,0,1,6.5,5.31,5.31,0,0,0,4.9,4.9,5.31,5.31,0,0,0,6.5,1,5.31,5.31,0,0,0,8.1,4.9,5.31,5.31,0,0,0,12,6.5,5.46,5.46,0,0,0,6.5,12Z\"/>\n",
              "  </svg>\n",
              "    </button>\n",
              "    <script>\n",
              "      (() => {\n",
              "      const buttonEl =\n",
              "        document.querySelector('#id_2fda3fec-3387-493e-898b-d4dabd76d4e5 button.colab-df-generate');\n",
              "      buttonEl.style.display =\n",
              "        google.colab.kernel.accessAllowed ? 'block' : 'none';\n",
              "\n",
              "      buttonEl.onclick = () => {\n",
              "        google.colab.notebook.generateWithVariable('dataframe');\n",
              "      }\n",
              "      })();\n",
              "    </script>\n",
              "  </div>\n",
              "\n",
              "    </div>\n",
              "  </div>\n"
            ],
            "application/vnd.google.colaboratory.intrinsic+json": {
              "type": "dataframe",
              "variable_name": "dataframe",
              "summary": "{\n  \"name\": \"dataframe\",\n  \"rows\": 3,\n  \"fields\": [\n    {\n      \"column\": 0,\n      \"properties\": {\n        \"dtype\": \"number\",\n        \"std\": 3,\n        \"min\": 1,\n        \"max\": 7,\n        \"num_unique_values\": 3,\n        \"samples\": [\n          1,\n          4,\n          7\n        ],\n        \"semantic_type\": \"\",\n        \"description\": \"\"\n      }\n    },\n    {\n      \"column\": 1,\n      \"properties\": {\n        \"dtype\": \"number\",\n        \"std\": 3,\n        \"min\": 2,\n        \"max\": 8,\n        \"num_unique_values\": 3,\n        \"samples\": [\n          2,\n          5,\n          8\n        ],\n        \"semantic_type\": \"\",\n        \"description\": \"\"\n      }\n    },\n    {\n      \"column\": 2,\n      \"properties\": {\n        \"dtype\": \"number\",\n        \"std\": 3,\n        \"min\": 3,\n        \"max\": 9,\n        \"num_unique_values\": 3,\n        \"samples\": [\n          3,\n          6,\n          9\n        ],\n        \"semantic_type\": \"\",\n        \"description\": \"\"\n      }\n    }\n  ]\n}"
            }
          },
          "metadata": {},
          "execution_count": 36
        }
      ],
      "source": [
        "dataframe = pd.DataFrame([[1, 2, 3], [4, 5, 6], [7, 8, 9]], index = [\"a\", \"b\", \"c\"])\n",
        "dataframe"
      ]
    },
    {
      "cell_type": "markdown",
      "id": "ccf0e435",
      "metadata": {
        "id": "ccf0e435"
      },
      "source": [
        "This will create a DataFrame with three rows and three columns for each row. As was the case with series, a DataFrame will generate automatic indexes for rows and columns if they are not passed as arguments in the constructor of the class. If we wanted to create a new DataFrame with concrete indexes for rows and columns, it would be programmed as follows:"
      ]
    },
    {
      "cell_type": "code",
      "execution_count": 39,
      "id": "92f62a5c",
      "metadata": {
        "colab": {
          "base_uri": "https://localhost:8080/",
          "height": 143
        },
        "id": "92f62a5c",
        "outputId": "ea57434b-f652-4e33-8049-5c578e3019a2"
      },
      "outputs": [
        {
          "output_type": "execute_result",
          "data": {
            "text/plain": [
              "   col A  col B  col C\n",
              "a      1      4      7\n",
              "b      2      5      8\n",
              "c      3      6      9"
            ],
            "text/html": [
              "\n",
              "  <div id=\"df-27cf8290-2e8f-4d92-8fd9-0e3642459e25\" class=\"colab-df-container\">\n",
              "    <div>\n",
              "<style scoped>\n",
              "    .dataframe tbody tr th:only-of-type {\n",
              "        vertical-align: middle;\n",
              "    }\n",
              "\n",
              "    .dataframe tbody tr th {\n",
              "        vertical-align: top;\n",
              "    }\n",
              "\n",
              "    .dataframe thead th {\n",
              "        text-align: right;\n",
              "    }\n",
              "</style>\n",
              "<table border=\"1\" class=\"dataframe\">\n",
              "  <thead>\n",
              "    <tr style=\"text-align: right;\">\n",
              "      <th></th>\n",
              "      <th>col A</th>\n",
              "      <th>col B</th>\n",
              "      <th>col C</th>\n",
              "    </tr>\n",
              "  </thead>\n",
              "  <tbody>\n",
              "    <tr>\n",
              "      <th>a</th>\n",
              "      <td>1</td>\n",
              "      <td>4</td>\n",
              "      <td>7</td>\n",
              "    </tr>\n",
              "    <tr>\n",
              "      <th>b</th>\n",
              "      <td>2</td>\n",
              "      <td>5</td>\n",
              "      <td>8</td>\n",
              "    </tr>\n",
              "    <tr>\n",
              "      <th>c</th>\n",
              "      <td>3</td>\n",
              "      <td>6</td>\n",
              "      <td>9</td>\n",
              "    </tr>\n",
              "  </tbody>\n",
              "</table>\n",
              "</div>\n",
              "    <div class=\"colab-df-buttons\">\n",
              "\n",
              "  <div class=\"colab-df-container\">\n",
              "    <button class=\"colab-df-convert\" onclick=\"convertToInteractive('df-27cf8290-2e8f-4d92-8fd9-0e3642459e25')\"\n",
              "            title=\"Convert this dataframe to an interactive table.\"\n",
              "            style=\"display:none;\">\n",
              "\n",
              "  <svg xmlns=\"http://www.w3.org/2000/svg\" height=\"24px\" viewBox=\"0 -960 960 960\">\n",
              "    <path d=\"M120-120v-720h720v720H120Zm60-500h600v-160H180v160Zm220 220h160v-160H400v160Zm0 220h160v-160H400v160ZM180-400h160v-160H180v160Zm440 0h160v-160H620v160ZM180-180h160v-160H180v160Zm440 0h160v-160H620v160Z\"/>\n",
              "  </svg>\n",
              "    </button>\n",
              "\n",
              "  <style>\n",
              "    .colab-df-container {\n",
              "      display:flex;\n",
              "      gap: 12px;\n",
              "    }\n",
              "\n",
              "    .colab-df-convert {\n",
              "      background-color: #E8F0FE;\n",
              "      border: none;\n",
              "      border-radius: 50%;\n",
              "      cursor: pointer;\n",
              "      display: none;\n",
              "      fill: #1967D2;\n",
              "      height: 32px;\n",
              "      padding: 0 0 0 0;\n",
              "      width: 32px;\n",
              "    }\n",
              "\n",
              "    .colab-df-convert:hover {\n",
              "      background-color: #E2EBFA;\n",
              "      box-shadow: 0px 1px 2px rgba(60, 64, 67, 0.3), 0px 1px 3px 1px rgba(60, 64, 67, 0.15);\n",
              "      fill: #174EA6;\n",
              "    }\n",
              "\n",
              "    .colab-df-buttons div {\n",
              "      margin-bottom: 4px;\n",
              "    }\n",
              "\n",
              "    [theme=dark] .colab-df-convert {\n",
              "      background-color: #3B4455;\n",
              "      fill: #D2E3FC;\n",
              "    }\n",
              "\n",
              "    [theme=dark] .colab-df-convert:hover {\n",
              "      background-color: #434B5C;\n",
              "      box-shadow: 0px 1px 3px 1px rgba(0, 0, 0, 0.15);\n",
              "      filter: drop-shadow(0px 1px 2px rgba(0, 0, 0, 0.3));\n",
              "      fill: #FFFFFF;\n",
              "    }\n",
              "  </style>\n",
              "\n",
              "    <script>\n",
              "      const buttonEl =\n",
              "        document.querySelector('#df-27cf8290-2e8f-4d92-8fd9-0e3642459e25 button.colab-df-convert');\n",
              "      buttonEl.style.display =\n",
              "        google.colab.kernel.accessAllowed ? 'block' : 'none';\n",
              "\n",
              "      async function convertToInteractive(key) {\n",
              "        const element = document.querySelector('#df-27cf8290-2e8f-4d92-8fd9-0e3642459e25');\n",
              "        const dataTable =\n",
              "          await google.colab.kernel.invokeFunction('convertToInteractive',\n",
              "                                                    [key], {});\n",
              "        if (!dataTable) return;\n",
              "\n",
              "        const docLinkHtml = 'Like what you see? Visit the ' +\n",
              "          '<a target=\"_blank\" href=https://colab.research.google.com/notebooks/data_table.ipynb>data table notebook</a>'\n",
              "          + ' to learn more about interactive tables.';\n",
              "        element.innerHTML = '';\n",
              "        dataTable['output_type'] = 'display_data';\n",
              "        await google.colab.output.renderOutput(dataTable, element);\n",
              "        const docLink = document.createElement('div');\n",
              "        docLink.innerHTML = docLinkHtml;\n",
              "        element.appendChild(docLink);\n",
              "      }\n",
              "    </script>\n",
              "  </div>\n",
              "\n",
              "\n",
              "    <div id=\"df-d1a1761e-9a33-4160-9937-e9bb2db505b9\">\n",
              "      <button class=\"colab-df-quickchart\" onclick=\"quickchart('df-d1a1761e-9a33-4160-9937-e9bb2db505b9')\"\n",
              "                title=\"Suggest charts\"\n",
              "                style=\"display:none;\">\n",
              "\n",
              "<svg xmlns=\"http://www.w3.org/2000/svg\" height=\"24px\"viewBox=\"0 0 24 24\"\n",
              "     width=\"24px\">\n",
              "    <g>\n",
              "        <path d=\"M19 3H5c-1.1 0-2 .9-2 2v14c0 1.1.9 2 2 2h14c1.1 0 2-.9 2-2V5c0-1.1-.9-2-2-2zM9 17H7v-7h2v7zm4 0h-2V7h2v10zm4 0h-2v-4h2v4z\"/>\n",
              "    </g>\n",
              "</svg>\n",
              "      </button>\n",
              "\n",
              "<style>\n",
              "  .colab-df-quickchart {\n",
              "      --bg-color: #E8F0FE;\n",
              "      --fill-color: #1967D2;\n",
              "      --hover-bg-color: #E2EBFA;\n",
              "      --hover-fill-color: #174EA6;\n",
              "      --disabled-fill-color: #AAA;\n",
              "      --disabled-bg-color: #DDD;\n",
              "  }\n",
              "\n",
              "  [theme=dark] .colab-df-quickchart {\n",
              "      --bg-color: #3B4455;\n",
              "      --fill-color: #D2E3FC;\n",
              "      --hover-bg-color: #434B5C;\n",
              "      --hover-fill-color: #FFFFFF;\n",
              "      --disabled-bg-color: #3B4455;\n",
              "      --disabled-fill-color: #666;\n",
              "  }\n",
              "\n",
              "  .colab-df-quickchart {\n",
              "    background-color: var(--bg-color);\n",
              "    border: none;\n",
              "    border-radius: 50%;\n",
              "    cursor: pointer;\n",
              "    display: none;\n",
              "    fill: var(--fill-color);\n",
              "    height: 32px;\n",
              "    padding: 0;\n",
              "    width: 32px;\n",
              "  }\n",
              "\n",
              "  .colab-df-quickchart:hover {\n",
              "    background-color: var(--hover-bg-color);\n",
              "    box-shadow: 0 1px 2px rgba(60, 64, 67, 0.3), 0 1px 3px 1px rgba(60, 64, 67, 0.15);\n",
              "    fill: var(--button-hover-fill-color);\n",
              "  }\n",
              "\n",
              "  .colab-df-quickchart-complete:disabled,\n",
              "  .colab-df-quickchart-complete:disabled:hover {\n",
              "    background-color: var(--disabled-bg-color);\n",
              "    fill: var(--disabled-fill-color);\n",
              "    box-shadow: none;\n",
              "  }\n",
              "\n",
              "  .colab-df-spinner {\n",
              "    border: 2px solid var(--fill-color);\n",
              "    border-color: transparent;\n",
              "    border-bottom-color: var(--fill-color);\n",
              "    animation:\n",
              "      spin 1s steps(1) infinite;\n",
              "  }\n",
              "\n",
              "  @keyframes spin {\n",
              "    0% {\n",
              "      border-color: transparent;\n",
              "      border-bottom-color: var(--fill-color);\n",
              "      border-left-color: var(--fill-color);\n",
              "    }\n",
              "    20% {\n",
              "      border-color: transparent;\n",
              "      border-left-color: var(--fill-color);\n",
              "      border-top-color: var(--fill-color);\n",
              "    }\n",
              "    30% {\n",
              "      border-color: transparent;\n",
              "      border-left-color: var(--fill-color);\n",
              "      border-top-color: var(--fill-color);\n",
              "      border-right-color: var(--fill-color);\n",
              "    }\n",
              "    40% {\n",
              "      border-color: transparent;\n",
              "      border-right-color: var(--fill-color);\n",
              "      border-top-color: var(--fill-color);\n",
              "    }\n",
              "    60% {\n",
              "      border-color: transparent;\n",
              "      border-right-color: var(--fill-color);\n",
              "    }\n",
              "    80% {\n",
              "      border-color: transparent;\n",
              "      border-right-color: var(--fill-color);\n",
              "      border-bottom-color: var(--fill-color);\n",
              "    }\n",
              "    90% {\n",
              "      border-color: transparent;\n",
              "      border-bottom-color: var(--fill-color);\n",
              "    }\n",
              "  }\n",
              "</style>\n",
              "\n",
              "      <script>\n",
              "        async function quickchart(key) {\n",
              "          const quickchartButtonEl =\n",
              "            document.querySelector('#' + key + ' button');\n",
              "          quickchartButtonEl.disabled = true;  // To prevent multiple clicks.\n",
              "          quickchartButtonEl.classList.add('colab-df-spinner');\n",
              "          try {\n",
              "            const charts = await google.colab.kernel.invokeFunction(\n",
              "                'suggestCharts', [key], {});\n",
              "          } catch (error) {\n",
              "            console.error('Error during call to suggestCharts:', error);\n",
              "          }\n",
              "          quickchartButtonEl.classList.remove('colab-df-spinner');\n",
              "          quickchartButtonEl.classList.add('colab-df-quickchart-complete');\n",
              "        }\n",
              "        (() => {\n",
              "          let quickchartButtonEl =\n",
              "            document.querySelector('#df-d1a1761e-9a33-4160-9937-e9bb2db505b9 button');\n",
              "          quickchartButtonEl.style.display =\n",
              "            google.colab.kernel.accessAllowed ? 'block' : 'none';\n",
              "        })();\n",
              "      </script>\n",
              "    </div>\n",
              "\n",
              "  <div id=\"id_dab7da4b-cfdb-4016-b338-bc843c4ff2c8\">\n",
              "    <style>\n",
              "      .colab-df-generate {\n",
              "        background-color: #E8F0FE;\n",
              "        border: none;\n",
              "        border-radius: 50%;\n",
              "        cursor: pointer;\n",
              "        display: none;\n",
              "        fill: #1967D2;\n",
              "        height: 32px;\n",
              "        padding: 0 0 0 0;\n",
              "        width: 32px;\n",
              "      }\n",
              "\n",
              "      .colab-df-generate:hover {\n",
              "        background-color: #E2EBFA;\n",
              "        box-shadow: 0px 1px 2px rgba(60, 64, 67, 0.3), 0px 1px 3px 1px rgba(60, 64, 67, 0.15);\n",
              "        fill: #174EA6;\n",
              "      }\n",
              "\n",
              "      [theme=dark] .colab-df-generate {\n",
              "        background-color: #3B4455;\n",
              "        fill: #D2E3FC;\n",
              "      }\n",
              "\n",
              "      [theme=dark] .colab-df-generate:hover {\n",
              "        background-color: #434B5C;\n",
              "        box-shadow: 0px 1px 3px 1px rgba(0, 0, 0, 0.15);\n",
              "        filter: drop-shadow(0px 1px 2px rgba(0, 0, 0, 0.3));\n",
              "        fill: #FFFFFF;\n",
              "      }\n",
              "    </style>\n",
              "    <button class=\"colab-df-generate\" onclick=\"generateWithVariable('dataframe')\"\n",
              "            title=\"Generate code using this dataframe.\"\n",
              "            style=\"display:none;\">\n",
              "\n",
              "  <svg xmlns=\"http://www.w3.org/2000/svg\" height=\"24px\"viewBox=\"0 0 24 24\"\n",
              "       width=\"24px\">\n",
              "    <path d=\"M7,19H8.4L18.45,9,17,7.55,7,17.6ZM5,21V16.75L18.45,3.32a2,2,0,0,1,2.83,0l1.4,1.43a1.91,1.91,0,0,1,.58,1.4,1.91,1.91,0,0,1-.58,1.4L9.25,21ZM18.45,9,17,7.55Zm-12,3A5.31,5.31,0,0,0,4.9,8.1,5.31,5.31,0,0,0,1,6.5,5.31,5.31,0,0,0,4.9,4.9,5.31,5.31,0,0,0,6.5,1,5.31,5.31,0,0,0,8.1,4.9,5.31,5.31,0,0,0,12,6.5,5.46,5.46,0,0,0,6.5,12Z\"/>\n",
              "  </svg>\n",
              "    </button>\n",
              "    <script>\n",
              "      (() => {\n",
              "      const buttonEl =\n",
              "        document.querySelector('#id_dab7da4b-cfdb-4016-b338-bc843c4ff2c8 button.colab-df-generate');\n",
              "      buttonEl.style.display =\n",
              "        google.colab.kernel.accessAllowed ? 'block' : 'none';\n",
              "\n",
              "      buttonEl.onclick = () => {\n",
              "        google.colab.notebook.generateWithVariable('dataframe');\n",
              "      }\n",
              "      })();\n",
              "    </script>\n",
              "  </div>\n",
              "\n",
              "    </div>\n",
              "  </div>\n"
            ],
            "application/vnd.google.colaboratory.intrinsic+json": {
              "type": "dataframe",
              "variable_name": "dataframe",
              "summary": "{\n  \"name\": \"dataframe\",\n  \"rows\": 3,\n  \"fields\": [\n    {\n      \"column\": \"col A\",\n      \"properties\": {\n        \"dtype\": \"number\",\n        \"std\": 1,\n        \"min\": 1,\n        \"max\": 3,\n        \"num_unique_values\": 3,\n        \"samples\": [\n          1,\n          2,\n          3\n        ],\n        \"semantic_type\": \"\",\n        \"description\": \"\"\n      }\n    },\n    {\n      \"column\": \"col B\",\n      \"properties\": {\n        \"dtype\": \"number\",\n        \"std\": 1,\n        \"min\": 4,\n        \"max\": 6,\n        \"num_unique_values\": 3,\n        \"samples\": [\n          4,\n          5,\n          6\n        ],\n        \"semantic_type\": \"\",\n        \"description\": \"\"\n      }\n    },\n    {\n      \"column\": \"col C\",\n      \"properties\": {\n        \"dtype\": \"number\",\n        \"std\": 1,\n        \"min\": 7,\n        \"max\": 9,\n        \"num_unique_values\": 3,\n        \"samples\": [\n          7,\n          8,\n          9\n        ],\n        \"semantic_type\": \"\",\n        \"description\": \"\"\n      }\n    }\n  ]\n}"
            }
          },
          "metadata": {},
          "execution_count": 39
        }
      ],
      "source": [
        "data = {\n",
        "    \"col A\": [1, 2, 3],\n",
        "    \"col B\": [4, 5, 6],\n",
        "    \"col C\": [7, 8, 9]\n",
        "}\n",
        "\n",
        "dataframe = pd.DataFrame(data, index = [\"a\", \"b\", \"c\"])\n",
        "dataframe"
      ]
    },
    {
      "cell_type": "markdown",
      "id": "758e57bd",
      "metadata": {
        "id": "758e57bd"
      },
      "source": [
        "In this way, a custom index is provided for the columns (labeling the rows within a dictionary) and for the rows (with the `index` argument, as was the case with the series).\n",
        "\n",
        "In a DataFrame its elements can be accessed by index or by position. Below are some operations that can be performed using the above DataFrame:"
      ]
    },
    {
      "cell_type": "code",
      "execution_count": 70,
      "id": "258c47ff",
      "metadata": {
        "colab": {
          "base_uri": "https://localhost:8080/",
          "height": 825
        },
        "id": "258c47ff",
        "outputId": "592c6067-e7e6-4638-d16a-5a266c699b65"
      },
      "outputs": [
        {
          "output_type": "stream",
          "name": "stdout",
          "text": [
            "a     10\n",
            "b     20\n",
            "c     30\n",
            "d    130\n",
            "Name: col A, dtype: int64\n",
            "a     10\n",
            "b     20\n",
            "c     30\n",
            "d    130\n",
            "Name: col A, dtype: int64\n",
            "a     10\n",
            "b     20\n",
            "c     30\n",
            "d    130\n",
            "Name: col A, dtype: int64\n",
            "col A    10\n",
            "col B     4\n",
            "col C     7\n",
            "col D    10\n",
            "Name: a, dtype: int64\n",
            "col A    10\n",
            "col B     4\n",
            "col C     7\n",
            "col D    10\n",
            "Name: a, dtype: int64\n",
            "10\n",
            "10\n"
          ]
        },
        {
          "output_type": "error",
          "ename": "ValueError",
          "evalue": "Length of values (3) does not match length of index (4)",
          "traceback": [
            "\u001b[0;31m---------------------------------------------------------------------------\u001b[0m",
            "\u001b[0;31mValueError\u001b[0m                                Traceback (most recent call last)",
            "\u001b[0;32m/tmp/ipython-input-3156181183.py\u001b[0m in \u001b[0;36m<cell line: 0>\u001b[0;34m()\u001b[0m\n\u001b[1;32m     13\u001b[0m \u001b[0;34m\u001b[0m\u001b[0m\n\u001b[1;32m     14\u001b[0m \u001b[0;31m# Create a new column\u001b[0m\u001b[0;34m\u001b[0m\u001b[0;34m\u001b[0m\u001b[0m\n\u001b[0;32m---> 15\u001b[0;31m \u001b[0mdataframe\u001b[0m\u001b[0;34m[\u001b[0m\u001b[0;34m\"col D\"\u001b[0m\u001b[0;34m]\u001b[0m \u001b[0;34m=\u001b[0m \u001b[0;34m[\u001b[0m\u001b[0;36m10\u001b[0m\u001b[0;34m,\u001b[0m \u001b[0;36m11\u001b[0m\u001b[0;34m,\u001b[0m \u001b[0;36m12\u001b[0m\u001b[0;34m]\u001b[0m\u001b[0;34m\u001b[0m\u001b[0;34m\u001b[0m\u001b[0m\n\u001b[0m\u001b[1;32m     16\u001b[0m \u001b[0mprint\u001b[0m\u001b[0;34m(\u001b[0m\u001b[0mdataframe\u001b[0m\u001b[0;34m)\u001b[0m\u001b[0;34m\u001b[0m\u001b[0;34m\u001b[0m\u001b[0m\n\u001b[1;32m     17\u001b[0m \u001b[0;34m\u001b[0m\u001b[0m\n",
            "\u001b[0;32m/usr/local/lib/python3.12/dist-packages/pandas/core/frame.py\u001b[0m in \u001b[0;36m__setitem__\u001b[0;34m(self, key, value)\u001b[0m\n\u001b[1;32m   4309\u001b[0m         \u001b[0;32melse\u001b[0m\u001b[0;34m:\u001b[0m\u001b[0;34m\u001b[0m\u001b[0;34m\u001b[0m\u001b[0m\n\u001b[1;32m   4310\u001b[0m             \u001b[0;31m# set column\u001b[0m\u001b[0;34m\u001b[0m\u001b[0;34m\u001b[0m\u001b[0m\n\u001b[0;32m-> 4311\u001b[0;31m             \u001b[0mself\u001b[0m\u001b[0;34m.\u001b[0m\u001b[0m_set_item\u001b[0m\u001b[0;34m(\u001b[0m\u001b[0mkey\u001b[0m\u001b[0;34m,\u001b[0m \u001b[0mvalue\u001b[0m\u001b[0;34m)\u001b[0m\u001b[0;34m\u001b[0m\u001b[0;34m\u001b[0m\u001b[0m\n\u001b[0m\u001b[1;32m   4312\u001b[0m \u001b[0;34m\u001b[0m\u001b[0m\n\u001b[1;32m   4313\u001b[0m     \u001b[0;32mdef\u001b[0m \u001b[0m_setitem_slice\u001b[0m\u001b[0;34m(\u001b[0m\u001b[0mself\u001b[0m\u001b[0;34m,\u001b[0m \u001b[0mkey\u001b[0m\u001b[0;34m:\u001b[0m \u001b[0mslice\u001b[0m\u001b[0;34m,\u001b[0m \u001b[0mvalue\u001b[0m\u001b[0;34m)\u001b[0m \u001b[0;34m->\u001b[0m \u001b[0;32mNone\u001b[0m\u001b[0;34m:\u001b[0m\u001b[0;34m\u001b[0m\u001b[0;34m\u001b[0m\u001b[0m\n",
            "\u001b[0;32m/usr/local/lib/python3.12/dist-packages/pandas/core/frame.py\u001b[0m in \u001b[0;36m_set_item\u001b[0;34m(self, key, value)\u001b[0m\n\u001b[1;32m   4522\u001b[0m         \u001b[0mensure\u001b[0m \u001b[0mhomogeneity\u001b[0m\u001b[0;34m.\u001b[0m\u001b[0;34m\u001b[0m\u001b[0;34m\u001b[0m\u001b[0m\n\u001b[1;32m   4523\u001b[0m         \"\"\"\n\u001b[0;32m-> 4524\u001b[0;31m         \u001b[0mvalue\u001b[0m\u001b[0;34m,\u001b[0m \u001b[0mrefs\u001b[0m \u001b[0;34m=\u001b[0m \u001b[0mself\u001b[0m\u001b[0;34m.\u001b[0m\u001b[0m_sanitize_column\u001b[0m\u001b[0;34m(\u001b[0m\u001b[0mvalue\u001b[0m\u001b[0;34m)\u001b[0m\u001b[0;34m\u001b[0m\u001b[0;34m\u001b[0m\u001b[0m\n\u001b[0m\u001b[1;32m   4525\u001b[0m \u001b[0;34m\u001b[0m\u001b[0m\n\u001b[1;32m   4526\u001b[0m         if (\n",
            "\u001b[0;32m/usr/local/lib/python3.12/dist-packages/pandas/core/frame.py\u001b[0m in \u001b[0;36m_sanitize_column\u001b[0;34m(self, value)\u001b[0m\n\u001b[1;32m   5264\u001b[0m \u001b[0;34m\u001b[0m\u001b[0m\n\u001b[1;32m   5265\u001b[0m         \u001b[0;32mif\u001b[0m \u001b[0mis_list_like\u001b[0m\u001b[0;34m(\u001b[0m\u001b[0mvalue\u001b[0m\u001b[0;34m)\u001b[0m\u001b[0;34m:\u001b[0m\u001b[0;34m\u001b[0m\u001b[0;34m\u001b[0m\u001b[0m\n\u001b[0;32m-> 5266\u001b[0;31m             \u001b[0mcom\u001b[0m\u001b[0;34m.\u001b[0m\u001b[0mrequire_length_match\u001b[0m\u001b[0;34m(\u001b[0m\u001b[0mvalue\u001b[0m\u001b[0;34m,\u001b[0m \u001b[0mself\u001b[0m\u001b[0;34m.\u001b[0m\u001b[0mindex\u001b[0m\u001b[0;34m)\u001b[0m\u001b[0;34m\u001b[0m\u001b[0;34m\u001b[0m\u001b[0m\n\u001b[0m\u001b[1;32m   5267\u001b[0m         \u001b[0marr\u001b[0m \u001b[0;34m=\u001b[0m \u001b[0msanitize_array\u001b[0m\u001b[0;34m(\u001b[0m\u001b[0mvalue\u001b[0m\u001b[0;34m,\u001b[0m \u001b[0mself\u001b[0m\u001b[0;34m.\u001b[0m\u001b[0mindex\u001b[0m\u001b[0;34m,\u001b[0m \u001b[0mcopy\u001b[0m\u001b[0;34m=\u001b[0m\u001b[0;32mTrue\u001b[0m\u001b[0;34m,\u001b[0m \u001b[0mallow_2d\u001b[0m\u001b[0;34m=\u001b[0m\u001b[0;32mTrue\u001b[0m\u001b[0;34m)\u001b[0m\u001b[0;34m\u001b[0m\u001b[0;34m\u001b[0m\u001b[0m\n\u001b[1;32m   5268\u001b[0m         if (\n",
            "\u001b[0;32m/usr/local/lib/python3.12/dist-packages/pandas/core/common.py\u001b[0m in \u001b[0;36mrequire_length_match\u001b[0;34m(data, index)\u001b[0m\n\u001b[1;32m    571\u001b[0m     \"\"\"\n\u001b[1;32m    572\u001b[0m     \u001b[0;32mif\u001b[0m \u001b[0mlen\u001b[0m\u001b[0;34m(\u001b[0m\u001b[0mdata\u001b[0m\u001b[0;34m)\u001b[0m \u001b[0;34m!=\u001b[0m \u001b[0mlen\u001b[0m\u001b[0;34m(\u001b[0m\u001b[0mindex\u001b[0m\u001b[0;34m)\u001b[0m\u001b[0;34m:\u001b[0m\u001b[0;34m\u001b[0m\u001b[0;34m\u001b[0m\u001b[0m\n\u001b[0;32m--> 573\u001b[0;31m         raise ValueError(\n\u001b[0m\u001b[1;32m    574\u001b[0m             \u001b[0;34m\"Length of values \"\u001b[0m\u001b[0;34m\u001b[0m\u001b[0;34m\u001b[0m\u001b[0m\n\u001b[1;32m    575\u001b[0m             \u001b[0;34mf\"({len(data)}) \"\u001b[0m\u001b[0;34m\u001b[0m\u001b[0;34m\u001b[0m\u001b[0m\n",
            "\u001b[0;31mValueError\u001b[0m: Length of values (3) does not match length of index (4)"
          ]
        }
      ],
      "source": [
        "# Access all the data in a column\n",
        "print(dataframe[\"col A\"]) # By index\n",
        "print(dataframe.loc[:,\"col A\"]) # By index\n",
        "print(dataframe.iloc[:,0]) # By position\n",
        "\n",
        "# Access all the data in a row\n",
        "print(dataframe.loc[\"a\"]) # By index\n",
        "print(dataframe.iloc[0]) # By position\n",
        "\n",
        "# Access to a specific element (row, column)\n",
        "print(dataframe.loc[\"a\", \"col A\"]) # By index\n",
        "print(dataframe.iloc[0, 0]) # By position\n",
        "\n",
        "# Create a new column\n",
        "dataframe[\"col D\"] = [10, 11, 12]\n",
        "print(dataframe)\n",
        "\n",
        "# Create a new row\n",
        "dataframe.loc[\"d\"] = [13, 14, 15, 16]\n",
        "print(dataframe)\n",
        "\n",
        "# Multiply by 10 the elements of a column\n",
        "dataframe[\"col A\"] *= 10\n",
        "print(dataframe)\n",
        "\n",
        "# Calculate the sum of all elements\n",
        "sum_all = dataframe.sum()\n",
        "print(sum_all)"
      ]
    },
    {
      "cell_type": "markdown",
      "id": "1ac3bdaa",
      "metadata": {
        "id": "1ac3bdaa"
      },
      "source": [
        "### Functions in Python Pandas\n",
        "\n",
        "Pandas provide a large number of predefined functions that can be applied on the data structures seen above. Some of the most used in data analysis are:"
      ]
    },
    {
      "cell_type": "code",
      "source": [
        "import pandas as pd\n",
        "\n",
        "s1 = pd.Series([1, 2, 3])\n",
        "s2 = pd.Series([4, 5, 6])\n",
        "d1 = pd.DataFrame([[1, 2, 3], [4, 5, 6]])\n",
        "d2 = pd.DataFrame([[7, 8, 9], [10, 11, 12]])\n",
        "\n",
        "# Arithmetic Operations\n",
        "print(\"Sum of series:\\n\\n\", s1.add(s2))\n",
        "\n",
        "print(\"Sum of DataFrames:\\n\\n\", d1.add(d2))"
      ],
      "metadata": {
        "colab": {
          "base_uri": "https://localhost:8080/"
        },
        "id": "XR2LUUJASllK",
        "outputId": "060fb205-0d4b-4ef2-9334-01235984196c"
      },
      "id": "XR2LUUJASllK",
      "execution_count": 237,
      "outputs": [
        {
          "output_type": "stream",
          "name": "stdout",
          "text": [
            "Sum of series:\n",
            "\n",
            " 0    5\n",
            "1    7\n",
            "2    9\n",
            "dtype: int64\n",
            "Sum of DataFrames:\n",
            "\n",
            "     0   1   2\n",
            "0   8  10  12\n",
            "1  14  16  18\n"
          ]
        }
      ]
    },
    {
      "cell_type": "code",
      "execution_count": 238,
      "id": "9a54370c",
      "metadata": {
        "colab": {
          "base_uri": "https://localhost:8080/"
        },
        "id": "9a54370c",
        "outputId": "6b7018b1-fed0-4a0c-cb90-db2ff2ee87bc"
      },
      "outputs": [
        {
          "output_type": "stream",
          "name": "stdout",
          "text": [
            "Sum of series: 0    5\n",
            "1    7\n",
            "2    9\n",
            "dtype: int64\n",
            "Sum of DataFrames:     0   1   2\n",
            "0   8  10  12\n",
            "1  14  16  18\n",
            "Mean: 2.0\n",
            "Median: 2.0\n",
            "Number of elements: 3\n",
            "Standard deviation: 1.0\n",
            "Variance: 1.0\n",
            "Maximum value: 3\n",
            "Minimum value: 1\n",
            "Correlation: 1.0\n",
            "Statistic summary: count    3.0\n",
            "mean     2.0\n",
            "std      1.0\n",
            "min      1.0\n",
            "25%      1.5\n",
            "50%      2.0\n",
            "75%      2.5\n",
            "max      3.0\n",
            "dtype: float64\n"
          ]
        }
      ],
      "source": [
        "import pandas as pd\n",
        "\n",
        "s1 = pd.Series([1, 2, 3])\n",
        "s2 = pd.Series([4, 5, 6])\n",
        "d1 = pd.DataFrame([[1, 2, 3], [4, 5, 6]])\n",
        "d2 = pd.DataFrame([[7, 8, 9], [10, 11, 12]])\n",
        "\n",
        "# Arithmetic Operations\n",
        "print(\"Sum of series:\", s1.add(s2))\n",
        "print(\"Sum of DataFrames:\", d1.add(d2))\n",
        "\n",
        "# Statistical Operations\n",
        "# They can be applied in the same way to DataFrames\n",
        "print(\"Mean:\", s1.mean())\n",
        "print(\"Median:\", s1.median())\n",
        "print(\"Number of elements:\", s1.count())\n",
        "print(\"Standard deviation:\", s1.std())\n",
        "print(\"Variance:\", s1.var())\n",
        "print(\"Maximum value:\", s1.max())\n",
        "print(\"Minimum value:\", s1.min())\n",
        "print(\"Correlation:\", s1.corr(s2))\n",
        "print(\"Statistic summary:\", s1.describe())"
      ]
    },
    {
      "cell_type": "markdown",
      "id": "1837dc19",
      "metadata": {
        "id": "1837dc19"
      },
      "source": [
        "#### Pandas allows you to use custom python functions (including lambda)\n",
        "\n",
        "In addition to the Pandas predefined functions, we can also define and apply others to the data structures. To do this, we have to program the function to receive a value (or a column or row in the case of a DataFrame) and return another modified one, and reference it with `apply`.\n",
        "\n",
        "In addition, this function allows using **lambda expressions** for the anonymous declaration of functions.\n",
        "\n",
        "The following shows how to apply functions to series:"
      ]
    },
    {
      "cell_type": "code",
      "execution_count": 82,
      "id": "282d22bb",
      "metadata": {
        "colab": {
          "base_uri": "https://localhost:8080/"
        },
        "id": "282d22bb",
        "outputId": "2dad3740-2bc8-4162-d5e1-f427bf8f5fd8"
      },
      "outputs": [
        {
          "output_type": "stream",
          "name": "stdout",
          "text": [
            "0     1\n",
            "1     4\n",
            "2     9\n",
            "3    16\n",
            "dtype: int64\n",
            "0     1\n",
            "1     4\n",
            "2     9\n",
            "3    16\n",
            "dtype: int64\n"
          ]
        }
      ],
      "source": [
        "import pandas as pd\n",
        "s = pd.Series([1, 2, 3, 4])\n",
        "\n",
        "# Explicit definition of the function\n",
        "def squared(x):\n",
        "    return x ** 2\n",
        "s1 = s.apply(squared)\n",
        "print(s1)\n",
        "\n",
        "# Anonymous definition of the function\n",
        "s2 = s.apply(lambda x: x ** 2)\n",
        "print(s2)"
      ]
    },
    {
      "cell_type": "markdown",
      "id": "40e3a3db",
      "metadata": {
        "id": "40e3a3db"
      },
      "source": [
        "The following shows how to apply functions to a DataFrame, which can be done by row, by column or by elements, similar to series:"
      ]
    },
    {
      "cell_type": "code",
      "execution_count": 92,
      "id": "7c96f45d",
      "metadata": {
        "colab": {
          "base_uri": "https://localhost:8080/"
        },
        "id": "7c96f45d",
        "outputId": "a47a5664-c756-4be6-df58-eecc4a35f950"
      },
      "outputs": [
        {
          "output_type": "stream",
          "name": "stdout",
          "text": [
            "   A  B\n",
            "0  1  4\n",
            "1  4  5\n",
            "2  9  6\n",
            "   A   B\n",
            "0  1  16\n",
            "1  4   5\n",
            "2  9   6\n",
            "    A    B\n",
            "0   1  256\n",
            "1  16   25\n",
            "2  81   36\n"
          ]
        },
        {
          "output_type": "stream",
          "name": "stderr",
          "text": [
            "/tmp/ipython-input-813581194.py:15: FutureWarning: DataFrame.applymap has been deprecated. Use DataFrame.map instead.\n",
            "  df = df.applymap(lambda x: x ** 2)\n"
          ]
        }
      ],
      "source": [
        "df = pd.DataFrame({\n",
        "    \"A\": [1, 2, 3],\n",
        "    \"B\": [4, 5, 6]\n",
        "})\n",
        "\n",
        "# Apply function along a column\n",
        "df[\"A\"] = df[\"A\"].apply(lambda x: x ** 2)\n",
        "print(df)\n",
        "\n",
        "# Apply function along a row\n",
        "df.loc[0] = df.loc[0].apply(lambda x: x ** 2)\n",
        "print(df)\n",
        "\n",
        "# Apply function to all elements\n",
        "df = df.applymap(lambda x: x ** 2)\n",
        "print(df)"
      ]
    },
    {
      "cell_type": "markdown",
      "id": "3acb43c7",
      "metadata": {
        "id": "3acb43c7"
      },
      "source": [
        "`apply` is more flexible than other vectorized Pandas functions, but can be slower, especially when applied to large data sets. It is always important to explore the Pandas or NumPy built-in functions first, as they are usually more efficient than the ones we could implement ourselves.\n",
        "\n",
        "Also, this function can return results in different ways, depending on the function applied and how it is configured."
      ]
    },
    {
      "cell_type": "markdown",
      "id": "a9f764b6",
      "metadata": {
        "id": "a9f764b6"
      },
      "source": [
        "## Start practicing the Pandas syntax in python righ now!\n",
        "\n",
        "> Click on Open in Colab to do the exercises\n",
        "\n",
        "> 🛟 Solutions: In this link you can find the [solutions for the following pandas exercises](https://4geeks.com/lesson/pandas-exercises-and-solutions).\n",
        "\n",
        "\n",
        "\n",
        "### Creation of Series and Pandas DataFrames"
      ]
    },
    {
      "cell_type": "markdown",
      "id": "e3c20b3d",
      "metadata": {
        "id": "e3c20b3d"
      },
      "source": [
        "#### Pandas Exercise 01: Create a Series from a list, a NumPy array and a dictionary (★☆☆)\n",
        "\n",
        "> NOTE: Review the class `pd.Series` (https://pandas.pydata.org/docs/reference/api/pandas.Series.html)"
      ]
    },
    {
      "cell_type": "code",
      "execution_count": 93,
      "id": "8a758bcf",
      "metadata": {
        "id": "8a758bcf"
      },
      "outputs": [],
      "source": [
        "import pandas as pd\n",
        "import numpy as np"
      ]
    },
    {
      "cell_type": "code",
      "source": [
        "# from a list\n",
        "my_list = [10, 20, 30, 40, 50]\n",
        "series_list = pd.Series(my_list)\n",
        "print(series_list)"
      ],
      "metadata": {
        "colab": {
          "base_uri": "https://localhost:8080/"
        },
        "id": "CZ__QK9kchdu",
        "outputId": "8aac71de-e471-4b0c-894f-da7d75044fab"
      },
      "id": "CZ__QK9kchdu",
      "execution_count": 177,
      "outputs": [
        {
          "output_type": "stream",
          "name": "stdout",
          "text": [
            "0    10\n",
            "1    20\n",
            "2    30\n",
            "3    40\n",
            "4    50\n",
            "dtype: int64\n"
          ]
        }
      ]
    },
    {
      "cell_type": "code",
      "source": [
        "#from NumPy Array\n",
        "my_array = np.array([10, 20, 30, 40, 50])\n",
        "series_array = pd.Series(my_array)\n",
        "print(series_array)"
      ],
      "metadata": {
        "colab": {
          "base_uri": "https://localhost:8080/"
        },
        "id": "6l4FXU85c_-X",
        "outputId": "4a3336a9-d8c7-4eb7-d848-20b75eed0b81"
      },
      "id": "6l4FXU85c_-X",
      "execution_count": 97,
      "outputs": [
        {
          "output_type": "stream",
          "name": "stdout",
          "text": [
            "0    10\n",
            "1    20\n",
            "2    30\n",
            "3    40\n",
            "4    50\n",
            "dtype: int64\n"
          ]
        }
      ]
    },
    {
      "cell_type": "code",
      "source": [
        "#from Dictionary\n",
        "my_dict = {'a': 10, 'b': 20, 'c': 30, 'd': 40, 'e': 50}\n",
        "series_dict = pd.Series(my_dict)\n",
        "print(series_dict)"
      ],
      "metadata": {
        "colab": {
          "base_uri": "https://localhost:8080/"
        },
        "id": "obTr0kY9dQ35",
        "outputId": "093846c2-5b48-4406-c999-5e99a8945615"
      },
      "id": "obTr0kY9dQ35",
      "execution_count": 99,
      "outputs": [
        {
          "output_type": "stream",
          "name": "stdout",
          "text": [
            "a    10\n",
            "b    20\n",
            "c    30\n",
            "d    40\n",
            "e    50\n",
            "dtype: int64\n"
          ]
        }
      ]
    },
    {
      "cell_type": "markdown",
      "id": "cb8185b8",
      "metadata": {
        "id": "cb8185b8"
      },
      "source": [
        "#### Pandas Exercise 02: Create a DataFrame from a NumPy array, a dictionary and a list of tuples (★☆☆)\n",
        "\n",
        "> NOTE: Review the class `pd.DataFrame` (https://pandas.pydata.org/docs/reference/api/pandas.DataFrame.html)"
      ]
    },
    {
      "cell_type": "code",
      "execution_count": 141,
      "id": "16cc6699",
      "metadata": {
        "colab": {
          "base_uri": "https://localhost:8080/"
        },
        "id": "16cc6699",
        "outputId": "f9414715-142b-4bd7-d49f-0ed4b470aa92"
      },
      "outputs": [
        {
          "output_type": "stream",
          "name": "stdout",
          "text": [
            "DataFrame from NumPy array:\n",
            "\n",
            "     Col A  Col B  Col C\n",
            "R1      1      2      3\n",
            "R2      4      5      6\n",
            "R3      7      8      9 \n",
            "\n"
          ]
        }
      ],
      "source": [
        "# NumPy array\n",
        "array_data = np.array([[1, 2, 3],\n",
        "                       [4, 5, 6],\n",
        "                       [7, 8, 9]])\n",
        "\n",
        "#converted to Dataframe\n",
        "df_array = pd.DataFrame(array_data, columns=['Col A', 'Col B', 'Col C'], index=['R1', 'R2', 'R3'])\n",
        "print(\"DataFrame from NumPy array:\\n\\n\", df_array, \"\\n\")\n"
      ]
    },
    {
      "cell_type": "code",
      "source": [
        "#from Dictionary\n",
        "dict_data = {'Col A': [1, 4, 7],\n",
        "             'Col B': [2, 5, 8],\n",
        "             'Col C': [3, 6, 9]}\n",
        "\n",
        "#convert to Dataframe\n",
        "df_dict = pd.DataFrame(dict_data, index=['R1', 'R2', 'R3'])\n",
        "print(\"DataFrame from Dictionary:\\n\\n\", df_dict, \"\\n\")"
      ],
      "metadata": {
        "colab": {
          "base_uri": "https://localhost:8080/"
        },
        "id": "biguHqHJh9Gt",
        "outputId": "8c2068df-689a-4436-8084-de22fb49e182"
      },
      "id": "biguHqHJh9Gt",
      "execution_count": 142,
      "outputs": [
        {
          "output_type": "stream",
          "name": "stdout",
          "text": [
            "DataFrame from Dictionary:\n",
            "\n",
            "     Col A  Col B  Col C\n",
            "R1      1      2      3\n",
            "R2      4      5      6\n",
            "R3      7      8      9 \n",
            "\n"
          ]
        }
      ]
    },
    {
      "cell_type": "code",
      "source": [
        "#list of Tuples\n",
        "tuple_data = [('Col A', 1, 1.0),\n",
        "              ('Col B', 2, 2.0),\n",
        "              ('Col C', 3, 3.0)]\n",
        "\n",
        "#convert to Dataframe\n",
        "df_tuple = pd.DataFrame(tuple_data, columns=['Column', 'Integer', 'Float'], index=['R1', 'R2', 'R3'])\n",
        "print(\"DataFrame from Tuple:\\n\\n\", df_tuple, \"\\n\")"
      ],
      "metadata": {
        "colab": {
          "base_uri": "https://localhost:8080/"
        },
        "id": "EiaqvUeEsAnv",
        "outputId": "3efb95ca-95e1-4071-c270-fc4f094e908c"
      },
      "id": "EiaqvUeEsAnv",
      "execution_count": 147,
      "outputs": [
        {
          "output_type": "stream",
          "name": "stdout",
          "text": [
            "DataFrame from Tuple:\n",
            "\n",
            "    Column  Integer  Float\n",
            "R1  Col A        1    1.0\n",
            "R2  Col B        2    2.0\n",
            "R3  Col C        3    3.0 \n",
            "\n"
          ]
        }
      ]
    },
    {
      "cell_type": "markdown",
      "id": "96424fb7",
      "metadata": {
        "id": "96424fb7"
      },
      "source": [
        "#### Pandas Exercise 03: Create 2 Series and use them to build a DataFrame (★☆☆)\n",
        "\n",
        "> NOTE: Review the functions `pd.concat` (https://pandas.pydata.org/docs/reference/api/pandas.concat.html) and `pd.Series.to_frame` (https://pandas.pydata.org/docs/reference/api/pandas.Series.to_frame.html)"
      ]
    },
    {
      "cell_type": "code",
      "execution_count": 221,
      "id": "36ff398e",
      "metadata": {
        "colab": {
          "base_uri": "https://localhost:8080/"
        },
        "id": "36ff398e",
        "outputId": "065fa61c-35cd-4b61-82c6-6c371732e2ee"
      },
      "outputs": [
        {
          "output_type": "stream",
          "name": "stdout",
          "text": [
            "Family Info:\n",
            "\n",
            "        Name  Age\n",
            "R1    Scott   47\n",
            "R2     Mike   49\n",
            "R3     Kody   26\n",
            "R4  Brandon   30 \n",
            "\n"
          ]
        }
      ],
      "source": [
        "#series 1\n",
        "names = pd.Series(['Scott', 'Mike', 'Kody', 'Brandon'])\n",
        "#series 2\n",
        "ages = pd.Series([47, 49, 26, 30])\n",
        "\n",
        "#Dataframe from series\n",
        "df = pd.concat([names, ages], axis=1)\n",
        "df.columns = ['Name', 'Age']\n",
        "df.index = ['R1', 'R2', 'R3', 'R4']\n",
        "print(\"Family Info:\\n\\n\", df, \"\\n\")"
      ]
    },
    {
      "cell_type": "markdown",
      "id": "8caafb43",
      "metadata": {
        "id": "8caafb43"
      },
      "source": [
        "### Filtering and updating"
      ]
    },
    {
      "cell_type": "markdown",
      "id": "1499a0a6",
      "metadata": {
        "id": "1499a0a6"
      },
      "source": [
        "#### Exercise 04: Use the Series created in the previous exercise and select the positions of the elements of the first Series that are in the second Series (★★☆)\n",
        "\n",
        "> NOTE: Review the function `pd.Series.isin` (https://pandas.pydata.org/docs/reference/api/pandas.Series.isin.html)"
      ]
    },
    {
      "cell_type": "code",
      "execution_count": 227,
      "id": "5683a253",
      "metadata": {
        "colab": {
          "base_uri": "https://localhost:8080/"
        },
        "id": "5683a253",
        "outputId": "c9d3945d-d622-4b6b-db5d-eec1b4300afe"
      },
      "outputs": [
        {
          "output_type": "stream",
          "name": "stdout",
          "text": [
            "\n",
            "Elements in 's1' that are also in 's2':\n",
            "\n",
            " 1    20\n",
            "3    40\n",
            "dtype: int64\n"
          ]
        }
      ],
      "source": [
        "#made new series since last expercise I used names and ages, something that wont match\n",
        "s1 = pd.Series([10, 20, 30, 40, 50]) #series 1\n",
        "s2 = pd.Series([20, 40, 60]) #series 2\n",
        "\n",
        "\n",
        "#positions in s1 that are in s2\n",
        "elements_in_s1 = s1[s1.isin(s2)]\n",
        "print(\"\\nElements in 's1' that are also in 's2':\\n\\n\", elements_in_s1)"
      ]
    },
    {
      "cell_type": "markdown",
      "id": "4303b614",
      "metadata": {
        "id": "4303b614"
      },
      "source": [
        "#### Pandas Exercise 05: Use the series created in exercise 03 and list the elements that are not common between both series (★★☆)"
      ]
    },
    {
      "cell_type": "code",
      "execution_count": 230,
      "id": "477e01f4",
      "metadata": {
        "colab": {
          "base_uri": "https://localhost:8080/"
        },
        "id": "477e01f4",
        "outputId": "942a1777-a9d5-4dc7-b6c1-9bc3c8819498"
      },
      "outputs": [
        {
          "output_type": "stream",
          "name": "stdout",
          "text": [
            "\n",
            "Elements in 's1' that are NOT in 's2':\n",
            "\n",
            " 0    10\n",
            "2    30\n",
            "4    50\n",
            "dtype: int64\n"
          ]
        }
      ],
      "source": [
        "#positions in s1 that are in s2\n",
        "elements_in_s1 = s1[~s1.isin(s2)]\n",
        "print(\"\\nElements in 's1' that are NOT in 's2':\\n\\n\", elements_in_s1)"
      ]
    },
    {
      "cell_type": "markdown",
      "id": "4e7ad59c",
      "metadata": {
        "id": "4e7ad59c"
      },
      "source": [
        "#### Pandas Exercise 06: Create a DataFrame of random numbers with 5 columns and 10 rows and sort one of its columns from smallest to largest (★★☆)\n",
        "\n",
        "> NOTE: Review the function `pd.DataFrame.sort_values` (https://pandas.pydata.org/docs/reference/api/pandas.DataFrame.sort_values.html)"
      ]
    },
    {
      "cell_type": "code",
      "execution_count": 264,
      "id": "82de9a71",
      "metadata": {
        "colab": {
          "base_uri": "https://localhost:8080/"
        },
        "id": "82de9a71",
        "outputId": "fa30fbc2-9e05-4431-d4fd-1dabe8b37706"
      },
      "outputs": [
        {
          "output_type": "stream",
          "name": "stdout",
          "text": [
            "Random number DataFrame:\n",
            "\n",
            "      Col A  Col B  Col C  Col D  Col E\n",
            "R1      84     28     46     28     53\n",
            "R2      65     84     63     52     70\n",
            "R3      44     88     10      1     60\n",
            "R4      22      1     61     91      4\n",
            "R5      65     49     61     40     63\n",
            "R6     100     90     70     39     40\n",
            "R7      27     90     32     73    100\n",
            "R8      50     26     57     12      6\n",
            "R9      28     93     93     10     28\n",
            "R10     15     57     77     39     75\n"
          ]
        }
      ],
      "source": [
        "#Create a DataFrame of random numbers with 5 columns and 10 rows\n",
        "df = pd.DataFrame(np.random.randint(1, 101, size=(10, 5)),\n",
        "                  columns=['Col A', 'Col B', 'Col C', 'Col D', 'Col E'], index=['R1', 'R2', 'R3', 'R4', 'R5', 'R6', 'R7', 'R8', 'R9', 'R10'])\n",
        "print(\"Random number DataFrame:\\n\\n\", df)"
      ]
    },
    {
      "cell_type": "code",
      "source": [
        "#sort one of its columns from smallest to largest\n",
        "df_sorted = df.sort_values(by='Col C', ascending=True)\n",
        "\n",
        "print(\"DataFrame sort column C smallest to largest:\\n\\n\", df_sorted)"
      ],
      "metadata": {
        "colab": {
          "base_uri": "https://localhost:8080/"
        },
        "id": "fyDoHd8h8pYZ",
        "outputId": "6230fec5-9903-4471-e062-68b0b25f23a2"
      },
      "id": "fyDoHd8h8pYZ",
      "execution_count": 300,
      "outputs": [
        {
          "output_type": "stream",
          "name": "stdout",
          "text": [
            "DataFrame sort column C smallest to largest:\n",
            "\n",
            "      Col A  Col B  Col C  Col D  Col E\n",
            "R3      44     88     10      1     60\n",
            "R7      27     90     32     73    100\n",
            "R1      84     28     46     28     53\n",
            "R8      50     26     57     12      6\n",
            "R5      65     49     61     40     63\n",
            "R4      22      1     61     91      4\n",
            "R2      65     84     63     52     70\n",
            "R6     100     90     70     39     40\n",
            "R10     15     57     77     39     75\n",
            "R9      28     93     93     10     28\n"
          ]
        }
      ]
    },
    {
      "cell_type": "markdown",
      "id": "09f77d6a",
      "metadata": {
        "id": "09f77d6a"
      },
      "source": [
        "#### Pandas Exercise 07: Modify the name of the 5 columns of the above DataFrame to the following format: `N_column` where `N` is the column number (★★☆)\n",
        "\n",
        "> NOTE: Review the function `pd.DataFrame.sort_values` (https://pandas.pydata.org/docs/reference/api/pandas.DataFrame.sort_values.html)"
      ]
    },
    {
      "cell_type": "code",
      "execution_count": 342,
      "id": "6c65fe4f",
      "metadata": {
        "colab": {
          "base_uri": "https://localhost:8080/"
        },
        "id": "6c65fe4f",
        "outputId": "d38284cf-54c8-4287-e1d1-c138a2b5cbb7"
      },
      "outputs": [
        {
          "output_type": "stream",
          "name": "stdout",
          "text": [
            "DataFrame with renamed Columns:\n",
            "\n",
            "         1_column  2_column  3_column  4_column  5_column\n",
            "Row_1         84        28        46        28        53\n",
            "Row_2         65        84        63        52        70\n",
            "Row_3         44        88        10         1        60\n",
            "Row_4         22         1        61        91         4\n",
            "Row_5         65        49        61        40        63\n",
            "Row_6        100        90        70        39        40\n",
            "Row_7         27        90        32        73       100\n",
            "Row_8         50        26        57        12         6\n",
            "Row_9         28        93        93        10        28\n",
            "Row_10        15        57        77        39        75\n"
          ]
        }
      ],
      "source": [
        "df.columns = [f\"{i+1}_column\" for i in range(df.shape[1])]\n",
        "print(\"DataFrame with renamed Columns:\\n\\n\", df)"
      ]
    },
    {
      "cell_type": "markdown",
      "id": "c0e940f8",
      "metadata": {
        "id": "c0e940f8"
      },
      "source": [
        "#### Pandas Exercise 08: Modify the index of the rows of the DataFrame of exercise 06 (★★☆)\n",
        "\n",
        "> NOTE: Review the function `pd.DataFrame.sort_values` (https://pandas.pydata.org/docs/reference/api/pandas.DataFrame.sort_values.html)"
      ]
    },
    {
      "cell_type": "code",
      "execution_count": 353,
      "id": "820dc7a5",
      "metadata": {
        "colab": {
          "base_uri": "https://localhost:8080/"
        },
        "id": "820dc7a5",
        "outputId": "893b8d3e-730d-40ea-c43c-7c7f38b2287d"
      },
      "outputs": [
        {
          "output_type": "stream",
          "name": "stdout",
          "text": [
            "DataFrame with renamed Rows:\n",
            "\n",
            "         1_column  2_column  3_column  4_column  5_column\n",
            "Row_1         84        28        46        28        53\n",
            "Row_2         65        84        63        52        70\n",
            "Row_3         44        88        10         1        60\n",
            "Row_4         22         1        61        91         4\n",
            "Row_5         65        49        61        40        63\n",
            "Row_6        100        90        70        39        40\n",
            "Row_7         27        90        32        73       100\n",
            "Row_8         50        26        57        12         6\n",
            "Row_9         28        93        93        10        28\n",
            "Row_10        15        57        77        39        75\n"
          ]
        }
      ],
      "source": [
        "df.index = [f\"Row_{i+1}\" for i in range(df.shape[0])]\n",
        "print(\"DataFrame with renamed Rows:\\n\\n\", df)"
      ]
    }
  ],
  "metadata": {
    "kernelspec": {
      "display_name": "Python 3",
      "language": "python",
      "name": "python3"
    },
    "language_info": {
      "codemirror_mode": {
        "name": "ipython",
        "version": 3
      },
      "file_extension": ".py",
      "mimetype": "text/x-python",
      "name": "python",
      "nbconvert_exporter": "python",
      "pygments_lexer": "ipython3",
      "version": "3.11.4"
    },
    "colab": {
      "provenance": [],
      "include_colab_link": true
    }
  },
  "nbformat": 4,
  "nbformat_minor": 5
}